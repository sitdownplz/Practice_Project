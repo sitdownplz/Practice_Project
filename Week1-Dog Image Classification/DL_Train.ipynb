{
 "cells": [
  {
   "cell_type": "markdown",
   "metadata": {},
   "source": [
    "## Pytorch 深度學習影像辨識練習\n",
    "#### Image Classification with Pytorch  "
   ]
  },
  {
   "cell_type": "markdown",
   "metadata": {},
   "source": [
    "1. 載入所需資料庫"
   ]
  },
  {
   "cell_type": "code",
   "execution_count": 15,
   "metadata": {},
   "outputs": [],
   "source": [
    "import torch\n",
    "import torch.nn as nn\n",
    "import torch.optim as optim\n",
    "from torch.optim import lr_scheduler\n",
    "import torch.utils as utils\n",
    "import torchvision\n",
    "from torchvision import datasets, models, transforms\n",
    "from torchsummary import summary\n",
    "import numpy as np\n",
    "import os \n",
    "import time\n",
    "import copy\n",
    "import matplotlib.pyplot as plt\n",
    "from matplotlib import style\n"
   ]
  },
  {
   "cell_type": "markdown",
   "metadata": {},
   "source": [
    "2. 建立 Helper Function"
   ]
  },
  {
   "cell_type": "markdown",
   "metadata": {},
   "source": [
    "* 資料集建立函式\n",
    "<br>\n",
    "###### &emsp;&emsp;&emsp;&emsp; 此函示建立訓練與驗證資料集(dict)，並包含資料的增補 (Data Augmentation)<br>&emsp;&emsp;&emsp;&emsp; <b>函式輸入:</b> 資料目標來源、轉置大小、切割比例<br> &emsp;&emsp;&emsp;&emsp; <b>函式輸出:</b> 含資料增補資料集(Data Loader)、資料集大小、類別標籤\n"
   ]
  },
  {
   "cell_type": "code",
   "execution_count": 3,
   "metadata": {},
   "outputs": [],
   "source": [
    "def createDataset(data_dir, imgSize, splitRatio):\n",
    "    # 建立訓練與驗證資料集的 Data Augmentation \n",
    "    data_transforms = {\n",
    "        'train': transforms.Compose([\n",
    "        transforms.RandomResizedCrop(224),\n",
    "        transforms.RandomHorizontalFlip(),\n",
    "        transforms.ToTensor(),\n",
    "        transforms.Normalize([0.485, 0.456, 0.406], [0.229, 0.224, 0.225])\n",
    "    ]),\n",
    "    'val': transforms.Compose([\n",
    "        transforms.Resize(imgSize),\n",
    "        transforms.CenterCrop(224),\n",
    "        transforms.ToTensor(),\n",
    "        transforms.Normalize([0.485, 0.456, 0.406], [0.229, 0.224, 0.225])\n",
    "    ])\n",
    "    }\n",
    "\n",
    "    fullset = datasets.ImageFolder(data_dir)\n",
    "    train_size = int(len(fullset)*splitRatio)\n",
    "    val_size = len(fullset) - train_size\n",
    "\n",
    "    \n",
    "    trainSet, valSet = utils.data.random_split(fullset,[train_size, val_size])\n",
    "    trainSet.dataset.transform = data_transforms['train']\n",
    "    valSet.dataset.transform = data_transforms['val']\n",
    "\n",
    "    dataloaders = {Dataset_type: utils.data.DataLoader(Dataset,\n",
    "    batch_size=4, shuffle=True)\n",
    "    for Dataset_type, Dataset in zip(['train', 'val'], [trainSet, valSet])}\n",
    "\n",
    "    dataset_sizes = {x: len(Dataset) for x, Dataset in zip(['train', 'val'], [trainSet, valSet])}\n",
    "    classes_name = fullset.classes\n",
    "\n",
    "\n",
    "\n",
    "    return dataloaders, dataset_sizes, classes_name\n"
   ]
  },
  {
   "cell_type": "markdown",
   "metadata": {},
   "source": [
    "* 訓練函式\n",
    "<br>\n",
    "###### &emsp;&emsp;&emsp;&emsp; 此函示主要啟動訓練並輸出模型<br>&emsp;&emsp;&emsp;&emsp; <b>函式輸入:</b> 模型架構、損失函數、求解器、排程器<br> &emsp;&emsp;&emsp;&emsp; <b>函式輸出:</b> 模型\n"
   ]
  },
  {
   "cell_type": "code",
   "execution_count": 4,
   "metadata": {},
   "outputs": [],
   "source": [
    "def train_model(model, criterion, optimizer, scheduler, num_epochs=25):\n",
    "    since = time.time()\n",
    "\n",
    "    best_model_wts = copy.deepcopy(model.state_dict())  # 複製pre-trained model 的 weight, bias\n",
    "    best_acc = 0.0\n",
    "\n",
    "    for epoch in range(num_epochs):\n",
    "        print(f'Epoch {epoch}/{num_epochs - 1}')\n",
    "        print('-' * 10)\n",
    "\n",
    "        # Each epoch has a training and validation phase\n",
    "        for phase in ['train', 'val']:\n",
    "            if phase == 'train':\n",
    "                model.train()  # Set model to training mode\n",
    "            else:\n",
    "                model.eval()   # Set model to evaluate mode\n",
    "\n",
    "            running_loss = 0.0\n",
    "            running_corrects = 0\n",
    "\n",
    "            # Iterate over data.\n",
    "            for inputs, labels in dataloaders[phase]:\n",
    "                inputs = inputs.to(device)\n",
    "                labels = labels.to(device)\n",
    "\n",
    "                # zero the parameter gradients\n",
    "                optimizer.zero_grad()\n",
    "\n",
    "                # forward\n",
    "                # track history if only in train\n",
    "                with torch.set_grad_enabled(phase == 'train'):\n",
    "                    outputs = model(inputs)\n",
    "                    _, preds = torch.max(outputs, 1)\n",
    "                    loss = criterion(outputs, labels)\n",
    "\n",
    "                    # backward + optimize only if in training phase\n",
    "                    if phase == 'train':\n",
    "                        loss.backward()\n",
    "                        optimizer.step()\n",
    "\n",
    "                # statistics\n",
    "                running_loss += loss.item() * inputs.size(0)\n",
    "                running_corrects += torch.sum(preds == labels.data)\n",
    "            if phase == 'train':\n",
    "                scheduler.step()\n",
    "\n",
    "            epoch_loss = running_loss / dataset_sizes[phase]\n",
    "            epoch_acc = running_corrects.double() / dataset_sizes[phase]\n",
    "\n",
    "            print(f'{phase} Loss: {epoch_loss:.4f} Acc: {epoch_acc:.4f}')\n",
    "\n",
    "            # deep copy the model\n",
    "            if phase == 'val' and epoch_acc > best_acc:\n",
    "                best_acc = epoch_acc\n",
    "                best_model_wts = copy.deepcopy(model.state_dict())\n",
    "\n",
    "        print()\n",
    "\n",
    "    time_elapsed = time.time() - since\n",
    "    print(f'Training complete in {time_elapsed // 60:.0f}m {time_elapsed % 60:.0f}s')\n",
    "    print(f'Best val Acc: {best_acc:4f}')\n",
    "\n",
    "    # load best model weights\n",
    "    model.load_state_dict(best_model_wts)\n",
    "    return model"
   ]
  },
  {
   "cell_type": "markdown",
   "metadata": {},
   "source": [
    "* 結果視覺化函式\n",
    "<br>\n",
    "###### &emsp;&emsp;&emsp;&emsp; 此函示主要輸出模型辨識結果，從驗證資料及擷取一定數量圖片並視覺化呈現辨識結果<br>&emsp;&emsp;&emsp;&emsp; <b>函式輸入:</b> 辨識模型、影像張數<br> &emsp;&emsp;&emsp;&emsp; <b>函式輸出:</b> 無"
   ]
  },
  {
   "cell_type": "code",
   "execution_count": 12,
   "metadata": {},
   "outputs": [],
   "source": [
    "def visualize_model(model, num_images=6):\n",
    "    was_training = model.training\n",
    "    model.eval()\n",
    "    images_so_far = 0\n",
    "    # fig = plt.figure()\n",
    "\n",
    "    with torch.no_grad():\n",
    "        for i, (inputs, labels) in enumerate(dataloaders['val']):\n",
    "            inputs = inputs.to(device)\n",
    "            labels = labels.to(device)\n",
    "\n",
    "            outputs = model(inputs)\n",
    "            _, preds = torch.max(outputs, 1)\n",
    "\n",
    "            for j in range(inputs.size()[0]):\n",
    "                images_so_far += 1\n",
    "                ax = plt.subplot(num_images//2, 2, images_so_far)\n",
    "                ax.axis('off')\n",
    "                ax.set_title(f'predicted: {classes_names[preds[j]]}')\n",
    "                plt.imshow(inputs.cpu().data[j].permute(1,2,0))\n",
    "\n",
    "                if images_so_far == num_images:\n",
    "                    model.train(mode=was_training)\n",
    "                    return\n",
    "        model.train(mode=was_training)"
   ]
  },
  {
   "cell_type": "markdown",
   "metadata": {},
   "source": [
    "3. 主要程式碼"
   ]
  },
  {
   "cell_type": "markdown",
   "metadata": {},
   "source": [
    "* 設定資料來源路徑"
   ]
  },
  {
   "cell_type": "code",
   "execution_count": 6,
   "metadata": {},
   "outputs": [],
   "source": [
    "project_path = 'C:\\\\Users\\\\tim\\\\Desktop\\\\DL'\n",
    "# os.chdir(project_path)\n",
    "\n",
    "# Data Folder\n",
    "data_dir = 'C:\\\\Users\\\\Tim\\\\Desktop\\\\GitHub Project\\\\Practice Project\\\\Week1-Dog Image Classification\\\\Dataset\\\\Dog_Images'"
   ]
  },
  {
   "cell_type": "markdown",
   "metadata": {},
   "source": [
    "* 設定訓練硬體與建立訓練、驗證資料集"
   ]
  },
  {
   "cell_type": "code",
   "execution_count": 10,
   "metadata": {},
   "outputs": [],
   "source": [
    "device = torch.device(\"cuda:0\" if torch.cuda.is_available() else \"cpu\")\n",
    "dataloaders, dataset_sizes, classes_names = createDataset(data_dir, 224, 0.7)"
   ]
  },
  {
   "cell_type": "markdown",
   "metadata": {},
   "source": [
    "* 使用 Pytorch pre-trained model - ** MobileNet_V3 ** <br>\n",
    "- &emsp; 抽換模型 Fully Connected 層，以符合本次資料集的標籤數量\n",
    "- &emsp; 設定損失函數\n",
    "- &emsp; 設定求解器\n",
    "- &emsp; 設定 Learning Rate 排程器"
   ]
  },
  {
   "cell_type": "code",
   "execution_count": 8,
   "metadata": {},
   "outputs": [
    {
     "name": "stderr",
     "output_type": "stream",
     "text": [
      "Downloading: \"https://download.pytorch.org/models/mobilenet_v3_large-8738ca79.pth\" to C:\\Users\\Tim/.cache\\torch\\hub\\checkpoints\\mobilenet_v3_large-8738ca79.pth\n",
      "100.0%\n"
     ]
    },
    {
     "name": "stdout",
     "output_type": "stream",
     "text": [
      "Epoch 0/24\n",
      "----------\n",
      "train Loss: 0.7142 Acc: 0.7160\n",
      "val Loss: 0.1516 Acc: 0.9831\n",
      "\n",
      "Epoch 1/24\n",
      "----------\n",
      "train Loss: 0.4474 Acc: 0.8422\n",
      "val Loss: 0.1422 Acc: 0.9718\n",
      "\n",
      "Epoch 2/24\n",
      "----------\n",
      "train Loss: 0.3626 Acc: 0.8689\n",
      "val Loss: 0.1473 Acc: 0.9548\n",
      "\n",
      "Epoch 3/24\n",
      "----------\n",
      "train Loss: 0.3303 Acc: 0.8811\n",
      "val Loss: 0.1335 Acc: 0.9548\n",
      "\n",
      "Epoch 4/24\n",
      "----------\n",
      "train Loss: 0.3580 Acc: 0.8374\n",
      "val Loss: 0.1479 Acc: 0.9379\n",
      "\n",
      "Epoch 5/24\n",
      "----------\n",
      "train Loss: 0.3725 Acc: 0.8519\n",
      "val Loss: 0.1325 Acc: 0.9548\n",
      "\n",
      "Epoch 6/24\n",
      "----------\n",
      "train Loss: 0.2966 Acc: 0.8981\n",
      "val Loss: 0.1382 Acc: 0.9548\n",
      "\n",
      "Epoch 7/24\n",
      "----------\n",
      "train Loss: 0.3438 Acc: 0.8617\n",
      "val Loss: 0.1182 Acc: 0.9548\n",
      "\n",
      "Epoch 8/24\n",
      "----------\n",
      "train Loss: 0.2497 Acc: 0.9150\n",
      "val Loss: 0.1176 Acc: 0.9548\n",
      "\n",
      "Epoch 9/24\n",
      "----------\n",
      "train Loss: 0.2725 Acc: 0.9005\n",
      "val Loss: 0.1172 Acc: 0.9492\n",
      "\n",
      "Epoch 10/24\n",
      "----------\n",
      "train Loss: 0.3552 Acc: 0.8544\n",
      "val Loss: 0.1173 Acc: 0.9548\n",
      "\n",
      "Epoch 11/24\n",
      "----------\n",
      "train Loss: 0.2564 Acc: 0.9223\n",
      "val Loss: 0.1176 Acc: 0.9548\n",
      "\n",
      "Epoch 12/24\n",
      "----------\n",
      "train Loss: 0.2650 Acc: 0.9078\n",
      "val Loss: 0.1151 Acc: 0.9605\n",
      "\n",
      "Epoch 13/24\n",
      "----------\n",
      "train Loss: 0.3193 Acc: 0.8835\n",
      "val Loss: 0.1143 Acc: 0.9548\n",
      "\n",
      "Epoch 14/24\n",
      "----------\n",
      "train Loss: 0.2578 Acc: 0.9175\n",
      "val Loss: 0.1168 Acc: 0.9605\n",
      "\n",
      "Epoch 15/24\n",
      "----------\n",
      "train Loss: 0.2282 Acc: 0.9223\n",
      "val Loss: 0.1160 Acc: 0.9548\n",
      "\n",
      "Epoch 16/24\n",
      "----------\n",
      "train Loss: 0.2791 Acc: 0.9078\n",
      "val Loss: 0.1160 Acc: 0.9605\n",
      "\n",
      "Epoch 17/24\n",
      "----------\n",
      "train Loss: 0.2534 Acc: 0.9102\n",
      "val Loss: 0.1165 Acc: 0.9548\n",
      "\n",
      "Epoch 18/24\n",
      "----------\n",
      "train Loss: 0.2688 Acc: 0.8956\n",
      "val Loss: 0.1142 Acc: 0.9661\n",
      "\n",
      "Epoch 19/24\n",
      "----------\n",
      "train Loss: 0.3111 Acc: 0.8811\n",
      "val Loss: 0.1148 Acc: 0.9605\n",
      "\n",
      "Epoch 20/24\n",
      "----------\n",
      "train Loss: 0.2587 Acc: 0.9102\n",
      "val Loss: 0.1161 Acc: 0.9548\n",
      "\n",
      "Epoch 21/24\n",
      "----------\n",
      "train Loss: 0.2546 Acc: 0.9223\n",
      "val Loss: 0.1139 Acc: 0.9548\n",
      "\n",
      "Epoch 22/24\n",
      "----------\n",
      "train Loss: 0.2854 Acc: 0.8908\n",
      "val Loss: 0.1141 Acc: 0.9605\n",
      "\n",
      "Epoch 23/24\n",
      "----------\n",
      "train Loss: 0.3031 Acc: 0.8738\n",
      "val Loss: 0.1131 Acc: 0.9605\n",
      "\n",
      "Epoch 24/24\n",
      "----------\n",
      "train Loss: 0.2668 Acc: 0.9029\n",
      "val Loss: 0.1143 Acc: 0.9605\n",
      "\n",
      "Training complete in 6m 54s\n",
      "Best val Acc: 0.983051\n"
     ]
    }
   ],
   "source": [
    "mdl = models.mobilenet_v3_large(pretrained=True)\n",
    "for param in mdl.parameters():\n",
    "    param.requires_grad = False\n",
    "num_ftrs = mdl.classifier[0].in_features\n",
    "mdl.classifier = nn.Linear(num_ftrs,3)\n",
    "mdl = mdl.to(device)\n",
    "\n",
    "criterion = nn.CrossEntropyLoss()\n",
    "optimizer_conv = optim.SGD(mdl.classifier.parameters(), lr=0.001, momentum=0.9)\n",
    "exp_lr_scheduler = lr_scheduler.StepLR(optimizer_conv, step_size=7, gamma=0.1)\n",
    "# summary(mdl.cuda(),(3,224,224))\n",
    "\n",
    "\n",
    "mdl_new = train_model(mdl, criterion, optimizer_conv, exp_lr_scheduler, num_epochs=25)"
   ]
  },
  {
   "cell_type": "markdown",
   "metadata": {},
   "source": [
    "4. 視覺化呈現訓練結果"
   ]
  },
  {
   "cell_type": "code",
   "execution_count": 18,
   "metadata": {},
   "outputs": [
    {
     "name": "stderr",
     "output_type": "stream",
     "text": [
      "Clipping input data to the valid range for imshow with RGB data ([0..1] for floats or [0..255] for integers).\n",
      "Clipping input data to the valid range for imshow with RGB data ([0..1] for floats or [0..255] for integers).\n",
      "Clipping input data to the valid range for imshow with RGB data ([0..1] for floats or [0..255] for integers).\n",
      "Clipping input data to the valid range for imshow with RGB data ([0..1] for floats or [0..255] for integers).\n",
      "Clipping input data to the valid range for imshow with RGB data ([0..1] for floats or [0..255] for integers).\n",
      "Clipping input data to the valid range for imshow with RGB data ([0..1] for floats or [0..255] for integers).\n"
     ]
    },
    {
     "data": {
      "image/png": "[encoded data removed]",
      "text/plain": [
       "<Figure size 432x288 with 6 Axes>"
      ]
     },
     "metadata": {},
     "output_type": "display_data"
    }
   ],
   "source": [
    "style.use('seaborn-dark')\n",
    "visualize_model(mdl_new)"
   ]
  }
 ],
 "metadata": {
  "interpreter": {
   "hash": "8105fc34f84f95f35c6f2d876cc3e9ecd00131f83b1f6204b82a7a9426cdf110"
  },
  "kernelspec": {
   "display_name": "Python 3.8.13 ('pytorch')",
   "language": "python",
   "name": "python3"
  },
  "language_info": {
   "codemirror_mode": {
    "name": "ipython",
    "version": 3
   },
   "file_extension": ".py",
   "mimetype": "text/x-python",
   "name": "python",
   "nbconvert_exporter": "python",
   "pygments_lexer": "ipython3",
   "version": "3.8.13"
  },
  "orig_nbformat": 4
 },
 "nbformat": 4,
 "nbformat_minor": 2
}
