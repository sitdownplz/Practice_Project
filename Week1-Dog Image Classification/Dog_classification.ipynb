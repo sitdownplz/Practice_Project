{
 "cells": [
  {
   "cell_type": "markdown",
   "metadata": {},
   "source": [
    "載入所需函式庫"
   ]
  },
  {
   "cell_type": "code",
   "execution_count": 1,
   "metadata": {},
   "outputs": [],
   "source": [
    "import torch\n",
    "import torch.nn as nn\n",
    "from torch.utils.data import DataLoader\n",
    "from torch.utils.data.dataset import Dataset\n",
    "from torchvision import transforms\n",
    "import torchvision.models as models\n",
    "from PIL import Image\n",
    "import numpy as np\n",
    "import pandas as pd\n",
    "import matplotlib.pyplot as plt\n",
    "from matplotlib import style\n",
    "import matlab.engine as eng\n",
    "\n"
   ]
  },
  {
   "cell_type": "markdown",
   "metadata": {},
   "source": [
    "建立 Image Dataset \n"
   ]
  },
  {
   "cell_type": "code",
   "execution_count": 2,
   "metadata": {},
   "outputs": [],
   "source": [
    "class image_dataset(Dataset):\n",
    "    def __init__(self, matlab_datastore, label_codebook, matlab_session, transform=None):\n",
    "        self.datasource = matlab_datastore\n",
    "        self.Matlab_sess = matlab_session\n",
    "        self.codebook = label_codebook\n",
    "        self.transform = transform\n",
    "        \n",
    "    def __getitem__(self,index):\n",
    "        \n",
    "        sess = self.Matlab_sess\n",
    "        ds = self.datasource\n",
    "        # if sess.hasdata(ds) and index+1 <= self.__len__():\n",
    "        # print('getitem:', index)\n",
    "        img, info = sess.readimage(ds, sess.double(index+1), nargout=2)\n",
    "        label_name = sess.string(info['Label']) # MATLAB cell string -> python str\n",
    "        label_encoded = self.codebook[label_name]\n",
    "        img = Image.fromarray(np.uint8(img[0]))\n",
    "        if self.transform:\n",
    "            img = self.transform(img)\n",
    "            img = np.array(img)\n",
    "        img = torch.from_numpy(img)\n",
    "\n",
    "        return img, label_encoded\n",
    "        \n",
    "\n",
    "    def __len__(self):\n",
    "        sess = self.Matlab_sess\n",
    "        sess.workspace['imds'] = self.datasource\n",
    "        return len(sess.string(sess.eval('imds.Labels')))\n",
    "    \n",
    "    def __class__(self):\n",
    "        return self.codebook.items()\n",
    "    \n",
    "    def reset(self):\n",
    "        self.Matlab_sess.reset(self.datasource, nargout=0)\n",
    "\n",
    "class imgClassfier(nn.Module):\n",
    "    def __init__(self, num_classes=3, dropout = 0.5):\n",
    "        super().__init__()\n",
    "        self.avgpool = nn.AdaptiveAvgPool2d((7,7))\n",
    "        self.classifier = nn.Sequential(\n",
    "            nn.Linear(100 * 7 * 7, 4096),\n",
    "            nn.ReLU(True),\n",
    "            nn.Dropout(p=dropout),\n",
    "            nn.Linear(4096, 4096),\n",
    "            nn.ReLU(True),\n",
    "            nn.Dropout(p=dropout),\n",
    "            nn.Linear(4096, 3),\n",
    "        )\n",
    "    def forward(self, x):\n",
    "        x = self.avgpool(x)\n",
    "        x = torch.flatten(x, 1)\n",
    "        x = self.classifier(x)\n",
    "        return x\n",
    "\n"
   ]
  },
  {
   "cell_type": "code",
   "execution_count": 13,
   "metadata": {},
   "outputs": [],
   "source": [
    "# Helper Function\n",
    "def set_parameter_requires_grad(model, featureExtracting):\n",
    "    if featureExtracting:\n",
    "        for param in model.parameters():\n",
    "            param.requires_grad = False\n",
    "            \n",
    "def Resnet_pretrained_model(numClasses, featureExtract=True, usePretrained=True):\n",
    "    model = models.resnet18(pretrained=usePretrained)\n",
    "    set_parameter_requires_grad(model, featureExtract)\n",
    "    numFtrs = model.fc.in_features\n",
    "    model.fc = nn.Linear(numFtrs, numClasses)\n",
    "    return model\n",
    "\n",
    "def train(net, dataloader, optimizer, criterion, epochs, device):\n",
    "    net.train()\n",
    "    net.to(device)\n",
    "    accuracy = 0\n",
    "    total_loss = 0\n",
    "    for epoch in range(epochs):\n",
    "        for x, label in dataloader:\n",
    "            x = x.to(device, dtype=torch.float)\n",
    "            label = label.to(device, dtype=torch.long)\n",
    "            optimizer.zero_grad()\n",
    "            output = net(x)\n",
    "            # 預留位置01\n",
    "            loss = criterion(output, label)\n",
    "            loss.backward()\n",
    "            optimizer.step()\n",
    "\n",
    "            total_loss += loss\n",
    "            total_loss /= len(dataloader.dataset)\n",
    "        if epoch%10==0:\n",
    "            print('[{}/{}] Loss:'.format(epoch+1, epochs),total_loss.item())\n",
    "    return net"
   ]
  },
  {
   "cell_type": "code",
   "execution_count": 4,
   "metadata": {},
   "outputs": [],
   "source": [
    "sess = eng.start_matlab()\n"
   ]
  },
  {
   "cell_type": "code",
   "execution_count": 5,
   "metadata": {},
   "outputs": [
    {
     "name": "stdout",
     "output_type": "stream",
     "text": [
      "dict_items([('Chihuahua', 0), ('Japanese_spaniel', 1), ('Maltese_dog', 2)])\n"
     ]
    }
   ],
   "source": [
    "\n",
    "# Image Data Path\n",
    "img_path = 'C:/Users/Tim/Desktop/GitHub Project/Practice Project/Week1-Dog Image Classification/Dataset/Dog_Images'\n",
    "imds = sess.imageDatastore(img_path,\n",
    "    'IncludeSubfolders',True,\n",
    "    'LabelSource','foldernames')\n",
    "sess.workspace['imds'] = imds\n",
    "labels = sess.eval('imds.Labels')\n",
    "gname, counts = sess.grpstats(labels,\n",
    "    labels,\n",
    "    ['gname','numel'], nargout=2)\n",
    "\n",
    "# Create encoding for data label\n",
    "label_codebook = dict(zip(gname,list(range(0,len(gname)))))\n",
    "print(label_codebook.items())"
   ]
  },
  {
   "cell_type": "code",
   "execution_count": 6,
   "metadata": {},
   "outputs": [
    {
     "data": {
      "text/plain": [
       "<BarContainer object of 3 artists>"
      ]
     },
     "execution_count": 6,
     "metadata": {},
     "output_type": "execute_result"
    },
    {
     "data": {
      "image/png": "[encoded data removed]",
      "text/plain": [
       "<Figure size 432x288 with 1 Axes>"
      ]
     },
     "metadata": {},
     "output_type": "display_data"
    }
   ],
   "source": [
    "# Change Plot Color Style for Jupyter Notebook Dark Theme\n",
    "style.use('seaborn-darkgrid')\n",
    "plt.figure()\n",
    "plt.bar(gname, list(counts._data))\n"
   ]
  },
  {
   "cell_type": "code",
   "execution_count": 7,
   "metadata": {},
   "outputs": [
    {
     "name": "stdout",
     "output_type": "stream",
     "text": [
      "Training Size: 412\n",
      "Testig Size: 177\n"
     ]
    }
   ],
   "source": [
    "# Split to training and testing dataset with same percentage of label\n",
    "trainImds, testImds = sess.splitEachLabel(imds,0.7,nargout=2)\n",
    "sess.workspace['trainImds'] = trainImds\n",
    "sess.workspace['testImds'] = testImds\n",
    "print('Training Size:', len(sess.eval('trainImds.Files')))\n",
    "print('Testig Size:', len(sess.eval('testImds.Files')))\n"
   ]
  },
  {
   "cell_type": "code",
   "execution_count": 14,
   "metadata": {},
   "outputs": [
    {
     "ename": "RuntimeError",
     "evalue": "Given groups=1, weight of size [64, 3, 7, 7], expected input[32, 224, 224, 3] to have 3 channels, but got 224 channels instead",
     "output_type": "error",
     "traceback": [
      "\u001b[1;31m---------------------------------------------------------------------------\u001b[0m",
      "\u001b[1;31mRuntimeError\u001b[0m                              Traceback (most recent call last)",
      "\u001b[1;32mc:\\Users\\Tim\\Desktop\\GitHub Project\\Practice Project\\Week1-Dog Image Classification\\Dog_classification.ipynb Cell 10'\u001b[0m in \u001b[0;36m<cell line: 22>\u001b[1;34m()\u001b[0m\n\u001b[0;32m     <a href='vscode-notebook-cell:/c%3A/Users/Tim/Desktop/GitHub%20Project/Practice%20Project/Week1-Dog%20Image%20Classification/Dog_classification.ipynb#ch0000009?line=19'>20</a>\u001b[0m mdl \u001b[39m=\u001b[39m Resnet_pretrained_model(\u001b[39m3\u001b[39m)\n\u001b[0;32m     <a href='vscode-notebook-cell:/c%3A/Users/Tim/Desktop/GitHub%20Project/Practice%20Project/Week1-Dog%20Image%20Classification/Dog_classification.ipynb#ch0000009?line=20'>21</a>\u001b[0m optimizer \u001b[39m=\u001b[39m torch\u001b[39m.\u001b[39moptim\u001b[39m.\u001b[39mAdam(mdl\u001b[39m.\u001b[39mparameters(),lr\u001b[39m=\u001b[39mlearningRate)\n\u001b[1;32m---> <a href='vscode-notebook-cell:/c%3A/Users/Tim/Desktop/GitHub%20Project/Practice%20Project/Week1-Dog%20Image%20Classification/Dog_classification.ipynb#ch0000009?line=21'>22</a>\u001b[0m trained_mdl \u001b[39m=\u001b[39m train(mdl,dataloader,optimizer,loss_function,epochs,training_device)\n",
      "\u001b[1;32mc:\\Users\\Tim\\Desktop\\GitHub Project\\Practice Project\\Week1-Dog Image Classification\\Dog_classification.ipynb Cell 5'\u001b[0m in \u001b[0;36mtrain\u001b[1;34m(net, dataloader, optimizer, criterion, epochs, device)\u001b[0m\n\u001b[0;32m     <a href='vscode-notebook-cell:/c%3A/Users/Tim/Desktop/GitHub%20Project/Practice%20Project/Week1-Dog%20Image%20Classification/Dog_classification.ipynb#ch0000004?line=21'>22</a>\u001b[0m label \u001b[39m=\u001b[39m label\u001b[39m.\u001b[39mto(device, dtype\u001b[39m=\u001b[39mtorch\u001b[39m.\u001b[39mlong)\n\u001b[0;32m     <a href='vscode-notebook-cell:/c%3A/Users/Tim/Desktop/GitHub%20Project/Practice%20Project/Week1-Dog%20Image%20Classification/Dog_classification.ipynb#ch0000004?line=22'>23</a>\u001b[0m optimizer\u001b[39m.\u001b[39mzero_grad()\n\u001b[1;32m---> <a href='vscode-notebook-cell:/c%3A/Users/Tim/Desktop/GitHub%20Project/Practice%20Project/Week1-Dog%20Image%20Classification/Dog_classification.ipynb#ch0000004?line=23'>24</a>\u001b[0m output \u001b[39m=\u001b[39m net(x)\n\u001b[0;32m     <a href='vscode-notebook-cell:/c%3A/Users/Tim/Desktop/GitHub%20Project/Practice%20Project/Week1-Dog%20Image%20Classification/Dog_classification.ipynb#ch0000004?line=24'>25</a>\u001b[0m \u001b[39m# 預留位置01\u001b[39;00m\n\u001b[0;32m     <a href='vscode-notebook-cell:/c%3A/Users/Tim/Desktop/GitHub%20Project/Practice%20Project/Week1-Dog%20Image%20Classification/Dog_classification.ipynb#ch0000004?line=25'>26</a>\u001b[0m loss \u001b[39m=\u001b[39m criterion(output, label)\n",
      "File \u001b[1;32mc:\\Users\\Tim\\anaconda3\\envs\\pytorch\\lib\\site-packages\\torch\\nn\\modules\\module.py:1110\u001b[0m, in \u001b[0;36mModule._call_impl\u001b[1;34m(self, *input, **kwargs)\u001b[0m\n\u001b[0;32m   <a href='file:///c%3A/Users/Tim/anaconda3/envs/pytorch/lib/site-packages/torch/nn/modules/module.py?line=1105'>1106</a>\u001b[0m \u001b[39m# If we don't have any hooks, we want to skip the rest of the logic in\u001b[39;00m\n\u001b[0;32m   <a href='file:///c%3A/Users/Tim/anaconda3/envs/pytorch/lib/site-packages/torch/nn/modules/module.py?line=1106'>1107</a>\u001b[0m \u001b[39m# this function, and just call forward.\u001b[39;00m\n\u001b[0;32m   <a href='file:///c%3A/Users/Tim/anaconda3/envs/pytorch/lib/site-packages/torch/nn/modules/module.py?line=1107'>1108</a>\u001b[0m \u001b[39mif\u001b[39;00m \u001b[39mnot\u001b[39;00m (\u001b[39mself\u001b[39m\u001b[39m.\u001b[39m_backward_hooks \u001b[39mor\u001b[39;00m \u001b[39mself\u001b[39m\u001b[39m.\u001b[39m_forward_hooks \u001b[39mor\u001b[39;00m \u001b[39mself\u001b[39m\u001b[39m.\u001b[39m_forward_pre_hooks \u001b[39mor\u001b[39;00m _global_backward_hooks\n\u001b[0;32m   <a href='file:///c%3A/Users/Tim/anaconda3/envs/pytorch/lib/site-packages/torch/nn/modules/module.py?line=1108'>1109</a>\u001b[0m         \u001b[39mor\u001b[39;00m _global_forward_hooks \u001b[39mor\u001b[39;00m _global_forward_pre_hooks):\n\u001b[1;32m-> <a href='file:///c%3A/Users/Tim/anaconda3/envs/pytorch/lib/site-packages/torch/nn/modules/module.py?line=1109'>1110</a>\u001b[0m     \u001b[39mreturn\u001b[39;00m forward_call(\u001b[39m*\u001b[39;49m\u001b[39minput\u001b[39;49m, \u001b[39m*\u001b[39;49m\u001b[39m*\u001b[39;49mkwargs)\n\u001b[0;32m   <a href='file:///c%3A/Users/Tim/anaconda3/envs/pytorch/lib/site-packages/torch/nn/modules/module.py?line=1110'>1111</a>\u001b[0m \u001b[39m# Do not call functions when jit is used\u001b[39;00m\n\u001b[0;32m   <a href='file:///c%3A/Users/Tim/anaconda3/envs/pytorch/lib/site-packages/torch/nn/modules/module.py?line=1111'>1112</a>\u001b[0m full_backward_hooks, non_full_backward_hooks \u001b[39m=\u001b[39m [], []\n",
      "File \u001b[1;32mc:\\Users\\Tim\\anaconda3\\envs\\pytorch\\lib\\site-packages\\torchvision\\models\\resnet.py:283\u001b[0m, in \u001b[0;36mResNet.forward\u001b[1;34m(self, x)\u001b[0m\n\u001b[0;32m    <a href='file:///c%3A/Users/Tim/anaconda3/envs/pytorch/lib/site-packages/torchvision/models/resnet.py?line=281'>282</a>\u001b[0m \u001b[39mdef\u001b[39;00m \u001b[39mforward\u001b[39m(\u001b[39mself\u001b[39m, x: Tensor) \u001b[39m-\u001b[39m\u001b[39m>\u001b[39m Tensor:\n\u001b[1;32m--> <a href='file:///c%3A/Users/Tim/anaconda3/envs/pytorch/lib/site-packages/torchvision/models/resnet.py?line=282'>283</a>\u001b[0m     \u001b[39mreturn\u001b[39;00m \u001b[39mself\u001b[39;49m\u001b[39m.\u001b[39;49m_forward_impl(x)\n",
      "File \u001b[1;32mc:\\Users\\Tim\\anaconda3\\envs\\pytorch\\lib\\site-packages\\torchvision\\models\\resnet.py:266\u001b[0m, in \u001b[0;36mResNet._forward_impl\u001b[1;34m(self, x)\u001b[0m\n\u001b[0;32m    <a href='file:///c%3A/Users/Tim/anaconda3/envs/pytorch/lib/site-packages/torchvision/models/resnet.py?line=263'>264</a>\u001b[0m \u001b[39mdef\u001b[39;00m \u001b[39m_forward_impl\u001b[39m(\u001b[39mself\u001b[39m, x: Tensor) \u001b[39m-\u001b[39m\u001b[39m>\u001b[39m Tensor:\n\u001b[0;32m    <a href='file:///c%3A/Users/Tim/anaconda3/envs/pytorch/lib/site-packages/torchvision/models/resnet.py?line=264'>265</a>\u001b[0m     \u001b[39m# See note [TorchScript super()]\u001b[39;00m\n\u001b[1;32m--> <a href='file:///c%3A/Users/Tim/anaconda3/envs/pytorch/lib/site-packages/torchvision/models/resnet.py?line=265'>266</a>\u001b[0m     x \u001b[39m=\u001b[39m \u001b[39mself\u001b[39;49m\u001b[39m.\u001b[39;49mconv1(x)\n\u001b[0;32m    <a href='file:///c%3A/Users/Tim/anaconda3/envs/pytorch/lib/site-packages/torchvision/models/resnet.py?line=266'>267</a>\u001b[0m     x \u001b[39m=\u001b[39m \u001b[39mself\u001b[39m\u001b[39m.\u001b[39mbn1(x)\n\u001b[0;32m    <a href='file:///c%3A/Users/Tim/anaconda3/envs/pytorch/lib/site-packages/torchvision/models/resnet.py?line=267'>268</a>\u001b[0m     x \u001b[39m=\u001b[39m \u001b[39mself\u001b[39m\u001b[39m.\u001b[39mrelu(x)\n",
      "File \u001b[1;32mc:\\Users\\Tim\\anaconda3\\envs\\pytorch\\lib\\site-packages\\torch\\nn\\modules\\module.py:1110\u001b[0m, in \u001b[0;36mModule._call_impl\u001b[1;34m(self, *input, **kwargs)\u001b[0m\n\u001b[0;32m   <a href='file:///c%3A/Users/Tim/anaconda3/envs/pytorch/lib/site-packages/torch/nn/modules/module.py?line=1105'>1106</a>\u001b[0m \u001b[39m# If we don't have any hooks, we want to skip the rest of the logic in\u001b[39;00m\n\u001b[0;32m   <a href='file:///c%3A/Users/Tim/anaconda3/envs/pytorch/lib/site-packages/torch/nn/modules/module.py?line=1106'>1107</a>\u001b[0m \u001b[39m# this function, and just call forward.\u001b[39;00m\n\u001b[0;32m   <a href='file:///c%3A/Users/Tim/anaconda3/envs/pytorch/lib/site-packages/torch/nn/modules/module.py?line=1107'>1108</a>\u001b[0m \u001b[39mif\u001b[39;00m \u001b[39mnot\u001b[39;00m (\u001b[39mself\u001b[39m\u001b[39m.\u001b[39m_backward_hooks \u001b[39mor\u001b[39;00m \u001b[39mself\u001b[39m\u001b[39m.\u001b[39m_forward_hooks \u001b[39mor\u001b[39;00m \u001b[39mself\u001b[39m\u001b[39m.\u001b[39m_forward_pre_hooks \u001b[39mor\u001b[39;00m _global_backward_hooks\n\u001b[0;32m   <a href='file:///c%3A/Users/Tim/anaconda3/envs/pytorch/lib/site-packages/torch/nn/modules/module.py?line=1108'>1109</a>\u001b[0m         \u001b[39mor\u001b[39;00m _global_forward_hooks \u001b[39mor\u001b[39;00m _global_forward_pre_hooks):\n\u001b[1;32m-> <a href='file:///c%3A/Users/Tim/anaconda3/envs/pytorch/lib/site-packages/torch/nn/modules/module.py?line=1109'>1110</a>\u001b[0m     \u001b[39mreturn\u001b[39;00m forward_call(\u001b[39m*\u001b[39;49m\u001b[39minput\u001b[39;49m, \u001b[39m*\u001b[39;49m\u001b[39m*\u001b[39;49mkwargs)\n\u001b[0;32m   <a href='file:///c%3A/Users/Tim/anaconda3/envs/pytorch/lib/site-packages/torch/nn/modules/module.py?line=1110'>1111</a>\u001b[0m \u001b[39m# Do not call functions when jit is used\u001b[39;00m\n\u001b[0;32m   <a href='file:///c%3A/Users/Tim/anaconda3/envs/pytorch/lib/site-packages/torch/nn/modules/module.py?line=1111'>1112</a>\u001b[0m full_backward_hooks, non_full_backward_hooks \u001b[39m=\u001b[39m [], []\n",
      "File \u001b[1;32mc:\\Users\\Tim\\anaconda3\\envs\\pytorch\\lib\\site-packages\\torch\\nn\\modules\\conv.py:447\u001b[0m, in \u001b[0;36mConv2d.forward\u001b[1;34m(self, input)\u001b[0m\n\u001b[0;32m    <a href='file:///c%3A/Users/Tim/anaconda3/envs/pytorch/lib/site-packages/torch/nn/modules/conv.py?line=445'>446</a>\u001b[0m \u001b[39mdef\u001b[39;00m \u001b[39mforward\u001b[39m(\u001b[39mself\u001b[39m, \u001b[39minput\u001b[39m: Tensor) \u001b[39m-\u001b[39m\u001b[39m>\u001b[39m Tensor:\n\u001b[1;32m--> <a href='file:///c%3A/Users/Tim/anaconda3/envs/pytorch/lib/site-packages/torch/nn/modules/conv.py?line=446'>447</a>\u001b[0m     \u001b[39mreturn\u001b[39;00m \u001b[39mself\u001b[39;49m\u001b[39m.\u001b[39;49m_conv_forward(\u001b[39minput\u001b[39;49m, \u001b[39mself\u001b[39;49m\u001b[39m.\u001b[39;49mweight, \u001b[39mself\u001b[39;49m\u001b[39m.\u001b[39;49mbias)\n",
      "File \u001b[1;32mc:\\Users\\Tim\\anaconda3\\envs\\pytorch\\lib\\site-packages\\torch\\nn\\modules\\conv.py:443\u001b[0m, in \u001b[0;36mConv2d._conv_forward\u001b[1;34m(self, input, weight, bias)\u001b[0m\n\u001b[0;32m    <a href='file:///c%3A/Users/Tim/anaconda3/envs/pytorch/lib/site-packages/torch/nn/modules/conv.py?line=438'>439</a>\u001b[0m \u001b[39mif\u001b[39;00m \u001b[39mself\u001b[39m\u001b[39m.\u001b[39mpadding_mode \u001b[39m!=\u001b[39m \u001b[39m'\u001b[39m\u001b[39mzeros\u001b[39m\u001b[39m'\u001b[39m:\n\u001b[0;32m    <a href='file:///c%3A/Users/Tim/anaconda3/envs/pytorch/lib/site-packages/torch/nn/modules/conv.py?line=439'>440</a>\u001b[0m     \u001b[39mreturn\u001b[39;00m F\u001b[39m.\u001b[39mconv2d(F\u001b[39m.\u001b[39mpad(\u001b[39minput\u001b[39m, \u001b[39mself\u001b[39m\u001b[39m.\u001b[39m_reversed_padding_repeated_twice, mode\u001b[39m=\u001b[39m\u001b[39mself\u001b[39m\u001b[39m.\u001b[39mpadding_mode),\n\u001b[0;32m    <a href='file:///c%3A/Users/Tim/anaconda3/envs/pytorch/lib/site-packages/torch/nn/modules/conv.py?line=440'>441</a>\u001b[0m                     weight, bias, \u001b[39mself\u001b[39m\u001b[39m.\u001b[39mstride,\n\u001b[0;32m    <a href='file:///c%3A/Users/Tim/anaconda3/envs/pytorch/lib/site-packages/torch/nn/modules/conv.py?line=441'>442</a>\u001b[0m                     _pair(\u001b[39m0\u001b[39m), \u001b[39mself\u001b[39m\u001b[39m.\u001b[39mdilation, \u001b[39mself\u001b[39m\u001b[39m.\u001b[39mgroups)\n\u001b[1;32m--> <a href='file:///c%3A/Users/Tim/anaconda3/envs/pytorch/lib/site-packages/torch/nn/modules/conv.py?line=442'>443</a>\u001b[0m \u001b[39mreturn\u001b[39;00m F\u001b[39m.\u001b[39;49mconv2d(\u001b[39minput\u001b[39;49m, weight, bias, \u001b[39mself\u001b[39;49m\u001b[39m.\u001b[39;49mstride,\n\u001b[0;32m    <a href='file:///c%3A/Users/Tim/anaconda3/envs/pytorch/lib/site-packages/torch/nn/modules/conv.py?line=443'>444</a>\u001b[0m                 \u001b[39mself\u001b[39;49m\u001b[39m.\u001b[39;49mpadding, \u001b[39mself\u001b[39;49m\u001b[39m.\u001b[39;49mdilation, \u001b[39mself\u001b[39;49m\u001b[39m.\u001b[39;49mgroups)\n",
      "\u001b[1;31mRuntimeError\u001b[0m: Given groups=1, weight of size [64, 3, 7, 7], expected input[32, 224, 224, 3] to have 3 channels, but got 224 channels instead"
     ]
    }
   ],
   "source": [
    "\n",
    "\n",
    "dataset = image_dataset(trainImds, label_codebook, sess,\n",
    "transform = transforms.Resize([224,224]))\n",
    "dataset.reset()\n",
    "\n",
    "dataloader = DataLoader(dataset, \n",
    "    batch_size=32,\n",
    "    shuffle=True)\n",
    "\n",
    "epochs = 300\n",
    "batch_size = 8\n",
    "learningRate = 0.001\n",
    "use_cuda = 1\n",
    "loss_function  = nn.CrossEntropyLoss()\n",
    "training_device = torch.device(\n",
    "    # 如果有GPU可以使用，則選擇使用GPU\n",
    "    \"cuda\" if (torch.cuda.is_available() & use_cuda)\n",
    "    else \"cpu\")\n",
    "\n",
    "\n",
    "mdl = Resnet_pretrained_model(3)\n",
    "optimizer = torch.optim.Adam(mdl.parameters(),lr=learningRate)\n",
    "trained_mdl = train(mdl,dataloader,optimizer,loss_function,epochs,training_device)\n",
    "  "
   ]
  }
 ],
 "metadata": {
  "interpreter": {
   "hash": "8105fc34f84f95f35c6f2d876cc3e9ecd00131f83b1f6204b82a7a9426cdf110"
  },
  "kernelspec": {
   "display_name": "Python 3.8.13 ('pytorch')",
   "language": "python",
   "name": "python3"
  },
  "language_info": {
   "codemirror_mode": {
    "name": "ipython",
    "version": 3
   },
   "file_extension": ".py",
   "mimetype": "text/x-python",
   "name": "python",
   "nbconvert_exporter": "python",
   "pygments_lexer": "ipython3",
   "version": "3.8.13"
  },
  "orig_nbformat": 4
 },
 "nbformat": 4,
 "nbformat_minor": 2
}
